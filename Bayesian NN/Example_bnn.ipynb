{
 "cells": [
  {
   "cell_type": "code",
   "execution_count": 1,
   "metadata": {},
   "outputs": [],
   "source": [
    "import jax\n",
    "import distrax\n",
    "import blackjax\n",
    "import jax.numpy as jnp\n",
    "import flax.linen as nn\n",
    "import matplotlib.pyplot as plt\n",
    "\n",
    "from functools import partial\n",
    "from sklearn.datasets import make_moons\n",
    "from jax.flatten_util import ravel_pytree\n"
   ]
  },
  {
   "cell_type": "code",
   "execution_count": 2,
   "metadata": {},
   "outputs": [],
   "source": [
    "class MLP1D(nn.Module):\n",
    "    @nn.compact\n",
    "    def __call__(self, x):\n",
    "        x = nn.relu(nn.Dense(10)(x))\n",
    "        x = nn.relu(nn.Dense(10)(x))\n",
    "        x = nn.relu(nn.Dense(10)(x))\n",
    "        x = nn.Dense(1)(x)\n",
    "        return x\n",
    "\n",
    "\n",
    "def bnn_log_joint(params, X, y, model):\n",
    "    logits = model.apply(params, X).ravel()\n",
    "    \n",
    "    flatten_params, _ = ravel_pytree(params)\n",
    "    log_prior = distrax.Normal(0.0, 1.0).log_prob(flatten_params).sum()\n",
    "    log_likelihood = distrax.Bernoulli(logits=logits).log_prob(y).sum()\n",
    "    \n",
    "    log_joint = log_prior + log_likelihood\n",
    "    return log_joint\n",
    "\n",
    "\n",
    "def inference_loop(rng_key, kernel, initial_state, num_samples):\n",
    "    def one_step(state, rng_key):\n",
    "        state, _ = kernel(rng_key, state)\n",
    "        return state, state\n",
    "\n",
    "    keys = jax.random.split(rng_key, num_samples)\n",
    "    _, states = jax.lax.scan(one_step, initial_state, keys)\n",
    "\n",
    "    return states\n"
   ]
  },
  {
   "cell_type": "code",
   "execution_count": null,
   "metadata": {},
   "outputs": [],
   "source": []
  },
  {
   "cell_type": "code",
   "execution_count": 3,
   "metadata": {},
   "outputs": [
    {
     "name": "stderr",
     "output_type": "stream",
     "text": [
      "No GPU/TPU found, falling back to CPU. (Set TF_CPP_MIN_LOG_LEVEL=0 and rerun for more info.)\n"
     ]
    }
   ],
   "source": [
    "key = jax.random.PRNGKey(314)\n",
    "key_samples, key_init, key_warmup, key = jax.random.split(key, 4)\n"
   ]
  },
  {
   "cell_type": "code",
   "execution_count": 4,
   "metadata": {},
   "outputs": [
    {
     "name": "stderr",
     "output_type": "stream",
     "text": [
      "/home/paarthsachan/miniconda3/envs/battery2/lib/python3.11/site-packages/flax/core/scope.py:600: FutureWarning: jax.tree_leaves is deprecated, and will be removed in a future release. Use jax.tree_util.tree_leaves instead.\n",
      "  abs_value_flat = jax.tree_leaves(abs_value)\n",
      "/home/paarthsachan/miniconda3/envs/battery2/lib/python3.11/site-packages/flax/core/scope.py:601: FutureWarning: jax.tree_leaves is deprecated, and will be removed in a future release. Use jax.tree_util.tree_leaves instead.\n",
      "  value_flat = jax.tree_leaves(value)\n"
     ]
    }
   ],
   "source": [
    "noise = 0.2\n",
    "num_samples = 50\n",
    "num_warmup = 1000\n",
    "num_steps = 500\n",
    "\n",
    "model = MLP1D()\n",
    "batch = jnp.ones((num_samples, 2))\n",
    "params = model.init(key_init, batch)\n",
    "\n",
    "X, y = make_moons(num_samples, noise=noise, random_state=314)\n",
    "potential = partial(bnn_log_joint, X=X, y=y, model=model)\n",
    "\n",
    "adapt = blackjax.window_adaptation(blackjax.nuts, potential, num_warmup)\n",
    "final_state, kernel, _ = adapt.run(key_warmup, params)\n",
    "states = inference_loop(key_samples, kernel, final_state, num_steps)\n",
    "\n",
    "sampled_params = states.position\n"
   ]
  },
  {
   "cell_type": "code",
   "execution_count": 5,
   "metadata": {},
   "outputs": [],
   "source": [
    "step = 0.1\n",
    "vmin, vmax = X.min() - step, X.max() + step\n",
    "X_grid = jnp.mgrid[vmin:vmax:100j, vmin:vmax:100j]\n"
   ]
  },
  {
   "cell_type": "code",
   "execution_count": 6,
   "metadata": {},
   "outputs": [],
   "source": [
    "vapply = jax.vmap(model.apply, in_axes=(0, None), out_axes=0)\n",
    "vapply = jax.vmap(vapply, in_axes=(None, 1), out_axes=1)\n",
    "vapply = jax.vmap(vapply, in_axes=(None, 2), out_axes=2)\n",
    "\n",
    "logits_grid = vapply(sampled_params, X_grid)[..., -1]\n"
   ]
  },
  {
   "cell_type": "code",
   "execution_count": 7,
   "metadata": {},
   "outputs": [
    {
     "data": {
      "image/png": "[encoded data removed]",
      "text/plain": [
       "<Figure size 500x400 with 1 Axes>"
      ]
     },
     "metadata": {},
     "output_type": "display_data"
    }
   ],
   "source": [
    "p_grid = jax.nn.sigmoid(logits_grid).mean(axis=0)\n",
    "fig, ax = plt.subplots(figsize=(5,4))\n",
    "colors = [\"tab:red\" if yn==1 else \"tab:blue\" for yn in y]\n",
    "plt.scatter(*X.T, c=colors, zorder=1)\n",
    "plt.contourf(*X_grid, p_grid, zorder=0, cmap=\"twilight\")\n",
    "plt.axis(\"off\");\n"
   ]
  },
  {
   "cell_type": "code",
   "execution_count": null,
   "metadata": {},
   "outputs": [],
   "source": []
  }
 ],
 "metadata": {
  "kernelspec": {
   "display_name": "battery2",
   "language": "python",
   "name": "python3"
  },
  "language_info": {
   "codemirror_mode": {
    "name": "ipython",
    "version": 3
   },
   "file_extension": ".py",
   "mimetype": "text/x-python",
   "name": "python",
   "nbconvert_exporter": "python",
   "pygments_lexer": "ipython3",
   "version": "3.11.0"
  },
  "orig_nbformat": 4,
  "vscode": {
   "interpreter": {
    "hash": "8a07582daed3fddaf1f38a1124d31759aa23fd5f64aad9b2b40f861e09156976"
   }
  }
 },
 "nbformat": 4,
 "nbformat_minor": 2
}
